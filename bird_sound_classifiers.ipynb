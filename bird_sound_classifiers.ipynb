{
 "cells": [
  {
   "cell_type": "code",
   "execution_count": null,
   "metadata": {
    "colab": {
     "base_uri": "https://localhost:8080/"
    },
    "id": "hZMPbuRhEYUK",
    "outputId": "2dff25c0-52ff-4642-f695-a60af7b0f2dd"
   },
   "outputs": [
    {
     "name": "stdout",
     "output_type": "stream",
     "text": [
      "Found GPU at: /device:GPU:0\n"
     ]
    }
   ],
   "source": [
    "import tensorflow as tf\n",
    "device_name = tf.test.gpu_device_name()\n",
    "if device_name != '/device:GPU:0':\n",
    "  raise SystemError('GPU device not found')\n",
    "print('Found GPU at: {}'.format(device_name))"
   ]
  },
  {
   "cell_type": "markdown",
   "metadata": {
    "id": "L42yZRINPRhQ"
   },
   "source": [
    "## Mounted my drive"
   ]
  },
  {
   "cell_type": "code",
   "execution_count": null,
   "metadata": {
    "colab": {
     "base_uri": "https://localhost:8080/"
    },
    "id": "lMwa89cS-JZX",
    "outputId": "1ab19616-d862-4725-dd79-8431bf31937b"
   },
   "outputs": [
    {
     "name": "stdout",
     "output_type": "stream",
     "text": [
      "Drive already mounted at /content/drive; to attempt to forcibly remount, call drive.mount(\"/content/drive\", force_remount=True).\n"
     ]
    }
   ],
   "source": [
    "from google.colab import drive\n",
    "drive.mount('/content/drive')"
   ]
  },
  {
   "cell_type": "code",
   "execution_count": null,
   "metadata": {
    "colab": {
     "base_uri": "https://localhost:8080/"
    },
    "id": "3T3O77qWx_Fe",
    "outputId": "fa08f8f7-7e8c-4c94-e9f6-6d405369428d"
   },
   "outputs": [
    {
     "name": "stdout",
     "output_type": "stream",
     "text": [
      "/content/drive/MyDrive/dl4e\n"
     ]
    }
   ],
   "source": [
    "%cd /content/drive/MyDrive/dl4e\n",
    "# %mkdir dl4e\n",
    "# %cd dl4e"
   ]
  },
  {
   "cell_type": "code",
   "execution_count": null,
   "metadata": {
    "colab": {
     "base_uri": "https://localhost:8080/"
    },
    "id": "HwJBufh-7y0J",
    "outputId": "901390be-3085-481d-8e34-b3550d67e3e6"
   },
   "outputs": [
    {
     "name": "stdout",
     "output_type": "stream",
     "text": [
      "total 4055418\n",
      "-rw------- 1 root root       4125 Feb 14 21:46 AnnotationReader.py\n",
      "drwx------ 2 root root       4096 Feb 17 21:20 \u001b[0m\u001b[01;34mAnnotations\u001b[0m/\n",
      "drwx------ 2 root root       4096 Feb 14 18:00 \u001b[01;34mAudio\u001b[0m/\n",
      "-rw------- 1 root root       4510 Feb 14 21:46 Code.zip\n",
      "drwx------ 2 root root       4096 Feb 17 20:04 \u001b[01;34mDataFiles\u001b[0m/\n",
      "-rw------- 1 root root 2068190524 Feb 15 10:38 Data.zip\n",
      "-rw------- 1 root root 2084499796 Feb 18 07:41 history_model_1.pkl\n",
      "drwx------ 5 root root       4096 Feb 14 18:00 \u001b[01;34m__MACOSX\u001b[0m/\n",
      "drwx------ 2 root root       4096 Feb 14 18:52 \u001b[01;34mModel_Output\u001b[0m/\n",
      "-rw------- 1 root root        176 Feb 18 05:28 params.json\n",
      "drwx------ 2 root root       4096 Feb 14 18:53 \u001b[01;34mPickled_Data\u001b[0m/\n",
      "-rw------- 1 root root      10668 Feb 17 15:35 Preprocessing.py\n",
      "drwx------ 2 root root       4096 Feb 14 18:54 \u001b[01;34m__pycache__\u001b[0m/\n",
      "drwx------ 2 root root       4096 Feb 14 18:53 \u001b[01;34mSaved_Data\u001b[0m/\n",
      "drwx------ 9 root root       4096 Feb 14 18:03 \u001b[01;34mscikit-maad\u001b[0m/\n"
     ]
    }
   ],
   "source": [
    "%ls -l"
   ]
  },
  {
   "cell_type": "markdown",
   "metadata": {
    "id": "A9qKLuLYt03k"
   },
   "source": [
    "## Installation and Importation\n",
    "\n",
    "This action requires AIMS email. Be sure that, try to run it with your AIMS email adress."
   ]
  },
  {
   "cell_type": "code",
   "execution_count": null,
   "metadata": {
    "colab": {
     "base_uri": "https://localhost:8080/"
    },
    "id": "ObZHTA53wfK7",
    "outputId": "cd99c603-d8af-4afa-f921-a45d2257be97"
   },
   "outputs": [
    {
     "name": "stdout",
     "output_type": "stream",
     "text": [
      "Requirement already satisfied: scikit-maad in /usr/local/lib/python3.10/dist-packages (1.4.0)\n",
      "Requirement already satisfied: numpy>=1.21 in /usr/local/lib/python3.10/dist-packages (from scikit-maad) (1.25.2)\n",
      "Requirement already satisfied: scipy>=1.8 in /usr/local/lib/python3.10/dist-packages (from scikit-maad) (1.11.4)\n",
      "Requirement already satisfied: scikit-image>=0.19 in /usr/local/lib/python3.10/dist-packages (from scikit-maad) (0.19.3)\n",
      "Requirement already satisfied: pandas>=1.5 in /usr/local/lib/python3.10/dist-packages (from scikit-maad) (1.5.3)\n",
      "Requirement already satisfied: resampy>=0.4 in /usr/local/lib/python3.10/dist-packages (from scikit-maad) (0.4.2)\n",
      "Requirement already satisfied: matplotlib>=3.6 in /usr/local/lib/python3.10/dist-packages (from scikit-maad) (3.7.1)\n",
      "Requirement already satisfied: contourpy>=1.0.1 in /usr/local/lib/python3.10/dist-packages (from matplotlib>=3.6->scikit-maad) (1.2.0)\n",
      "Requirement already satisfied: cycler>=0.10 in /usr/local/lib/python3.10/dist-packages (from matplotlib>=3.6->scikit-maad) (0.12.1)\n",
      "Requirement already satisfied: fonttools>=4.22.0 in /usr/local/lib/python3.10/dist-packages (from matplotlib>=3.6->scikit-maad) (4.48.1)\n",
      "Requirement already satisfied: kiwisolver>=1.0.1 in /usr/local/lib/python3.10/dist-packages (from matplotlib>=3.6->scikit-maad) (1.4.5)\n",
      "Requirement already satisfied: packaging>=20.0 in /usr/local/lib/python3.10/dist-packages (from matplotlib>=3.6->scikit-maad) (23.2)\n",
      "Requirement already satisfied: pillow>=6.2.0 in /usr/local/lib/python3.10/dist-packages (from matplotlib>=3.6->scikit-maad) (9.4.0)\n",
      "Requirement already satisfied: pyparsing>=2.3.1 in /usr/local/lib/python3.10/dist-packages (from matplotlib>=3.6->scikit-maad) (3.1.1)\n",
      "Requirement already satisfied: python-dateutil>=2.7 in /usr/local/lib/python3.10/dist-packages (from matplotlib>=3.6->scikit-maad) (2.8.2)\n",
      "Requirement already satisfied: pytz>=2020.1 in /usr/local/lib/python3.10/dist-packages (from pandas>=1.5->scikit-maad) (2023.4)\n",
      "Requirement already satisfied: numba>=0.53 in /usr/local/lib/python3.10/dist-packages (from resampy>=0.4->scikit-maad) (0.58.1)\n",
      "Requirement already satisfied: networkx>=2.2 in /usr/local/lib/python3.10/dist-packages (from scikit-image>=0.19->scikit-maad) (3.2.1)\n",
      "Requirement already satisfied: imageio>=2.4.1 in /usr/local/lib/python3.10/dist-packages (from scikit-image>=0.19->scikit-maad) (2.31.6)\n",
      "Requirement already satisfied: tifffile>=2019.7.26 in /usr/local/lib/python3.10/dist-packages (from scikit-image>=0.19->scikit-maad) (2024.2.12)\n",
      "Requirement already satisfied: PyWavelets>=1.1.1 in /usr/local/lib/python3.10/dist-packages (from scikit-image>=0.19->scikit-maad) (1.5.0)\n",
      "Requirement already satisfied: llvmlite<0.42,>=0.41.0dev0 in /usr/local/lib/python3.10/dist-packages (from numba>=0.53->resampy>=0.4->scikit-maad) (0.41.1)\n",
      "Requirement already satisfied: six>=1.5 in /usr/local/lib/python3.10/dist-packages (from python-dateutil>=2.7->matplotlib>=3.6->scikit-maad) (1.16.0)\n"
     ]
    }
   ],
   "source": [
    "# You might need to restart the runtime after running this code. You'll only\n",
    "# have to do this once per runtime. Once you restart, you do not need to run this again\n",
    "# !git clone https://github.com/scikit-maad/scikit-maad.git\n",
    "# !pip install librosa==0.8.1\n",
    "!pip install scikit-maad"
   ]
  },
  {
   "cell_type": "code",
   "execution_count": null,
   "metadata": {
    "colab": {
     "base_uri": "https://localhost:8080/"
    },
    "id": "0L-zQdCcCDhn",
    "outputId": "ddd44160-fe5d-4121-c66b-04a90429916f"
   },
   "outputs": [
    {
     "name": "stdout",
     "output_type": "stream",
     "text": [
      "Requirement already satisfied: librosa in /usr/local/lib/python3.10/dist-packages (0.10.1)\n",
      "Requirement already satisfied: audioread>=2.1.9 in /usr/local/lib/python3.10/dist-packages (from librosa) (3.0.1)\n",
      "Requirement already satisfied: numpy!=1.22.0,!=1.22.1,!=1.22.2,>=1.20.3 in /usr/local/lib/python3.10/dist-packages (from librosa) (1.25.2)\n",
      "Requirement already satisfied: scipy>=1.2.0 in /usr/local/lib/python3.10/dist-packages (from librosa) (1.11.4)\n",
      "Requirement already satisfied: scikit-learn>=0.20.0 in /usr/local/lib/python3.10/dist-packages (from librosa) (1.2.2)\n",
      "Requirement already satisfied: joblib>=0.14 in /usr/local/lib/python3.10/dist-packages (from librosa) (1.3.2)\n",
      "Requirement already satisfied: decorator>=4.3.0 in /usr/local/lib/python3.10/dist-packages (from librosa) (4.4.2)\n",
      "Requirement already satisfied: numba>=0.51.0 in /usr/local/lib/python3.10/dist-packages (from librosa) (0.58.1)\n",
      "Requirement already satisfied: soundfile>=0.12.1 in /usr/local/lib/python3.10/dist-packages (from librosa) (0.12.1)\n",
      "Requirement already satisfied: pooch>=1.0 in /usr/local/lib/python3.10/dist-packages (from librosa) (1.8.0)\n",
      "Requirement already satisfied: soxr>=0.3.2 in /usr/local/lib/python3.10/dist-packages (from librosa) (0.3.7)\n",
      "Requirement already satisfied: typing-extensions>=4.1.1 in /usr/local/lib/python3.10/dist-packages (from librosa) (4.9.0)\n",
      "Requirement already satisfied: lazy-loader>=0.1 in /usr/local/lib/python3.10/dist-packages (from librosa) (0.3)\n",
      "Requirement already satisfied: msgpack>=1.0 in /usr/local/lib/python3.10/dist-packages (from librosa) (1.0.7)\n",
      "Requirement already satisfied: llvmlite<0.42,>=0.41.0dev0 in /usr/local/lib/python3.10/dist-packages (from numba>=0.51.0->librosa) (0.41.1)\n",
      "Requirement already satisfied: platformdirs>=2.5.0 in /usr/local/lib/python3.10/dist-packages (from pooch>=1.0->librosa) (4.2.0)\n",
      "Requirement already satisfied: packaging>=20.0 in /usr/local/lib/python3.10/dist-packages (from pooch>=1.0->librosa) (23.2)\n",
      "Requirement already satisfied: requests>=2.19.0 in /usr/local/lib/python3.10/dist-packages (from pooch>=1.0->librosa) (2.31.0)\n",
      "Requirement already satisfied: threadpoolctl>=2.0.0 in /usr/local/lib/python3.10/dist-packages (from scikit-learn>=0.20.0->librosa) (3.2.0)\n",
      "Requirement already satisfied: cffi>=1.0 in /usr/local/lib/python3.10/dist-packages (from soundfile>=0.12.1->librosa) (1.16.0)\n",
      "Requirement already satisfied: pycparser in /usr/local/lib/python3.10/dist-packages (from cffi>=1.0->soundfile>=0.12.1->librosa) (2.21)\n",
      "Requirement already satisfied: charset-normalizer<4,>=2 in /usr/local/lib/python3.10/dist-packages (from requests>=2.19.0->pooch>=1.0->librosa) (3.3.2)\n",
      "Requirement already satisfied: idna<4,>=2.5 in /usr/local/lib/python3.10/dist-packages (from requests>=2.19.0->pooch>=1.0->librosa) (3.6)\n",
      "Requirement already satisfied: urllib3<3,>=1.21.1 in /usr/local/lib/python3.10/dist-packages (from requests>=2.19.0->pooch>=1.0->librosa) (2.0.7)\n",
      "Requirement already satisfied: certifi>=2017.4.17 in /usr/local/lib/python3.10/dist-packages (from requests>=2.19.0->pooch>=1.0->librosa) (2024.2.2)\n",
      "librosa==0.10.1\n"
     ]
    }
   ],
   "source": [
    "#Install a recent version librosa\n",
    "!pip install -U librosa\n",
    "!pip freeze | grep librosa"
   ]
  },
  {
   "cell_type": "code",
   "execution_count": null,
   "metadata": {
    "colab": {
     "base_uri": "https://localhost:8080/"
    },
    "id": "dONJP8gpQIS8",
    "outputId": "9090f604-8a60-4757-fce0-ffcbf59d066a"
   },
   "outputs": [
    {
     "name": "stdout",
     "output_type": "stream",
     "text": [
      "Requirement already satisfied: SoundFile in /usr/local/lib/python3.10/dist-packages (0.12.1)\n",
      "Requirement already satisfied: cffi>=1.0 in /usr/local/lib/python3.10/dist-packages (from SoundFile) (1.16.0)\n",
      "Requirement already satisfied: pycparser in /usr/local/lib/python3.10/dist-packages (from cffi>=1.0->SoundFile) (2.21)\n"
     ]
    }
   ],
   "source": [
    "\n",
    "# Audio things\n",
    "# ------------\n",
    "import librosa\n",
    "import librosa.display\n",
    "from IPython.display import Image\n",
    "\n",
    "# Neural network things\n",
    "# ---------------------\n",
    "from tensorflow.keras.layers import Dense, Dropout, Flatten, MaxPool2D, Conv2D\n",
    "from tensorflow.keras.models import Sequential\n",
    "from tensorflow.keras.utils import to_categorical\n",
    "\n",
    "# Other things\n",
    "# -------------\n",
    "from scipy import signal\n",
    "import numpy as np\n",
    "import scipy\n",
    "import matplotlib.pyplot as plt\n",
    "!pip install SoundFile\n",
    "from IPython.display import Audio\n",
    "import pandas as pd\n",
    "import math\n",
    "import random\n",
    "import pandas as pd\n",
    "from itertools import count\n",
    "import maad\n",
    "from maad import sound, util\n",
    "from maad.rois import template_matching\n",
    "# Plot some functions\n",
    "import matplotlib.pyplot as plt"
   ]
  },
  {
   "cell_type": "markdown",
   "metadata": {
    "id": "oX_24o2Bq_3_"
   },
   "source": [
    "# Pre-processing\n",
    "\n",
    "Every recording is used together to segment the data set.\n",
    "<!-- This Notebook use data from my Google Drive to be sure that codes below work correctly, we download the main file required from Drive in this cell. To build the dataset we're going to use a Pre-processing module made by Emmanuel (<a href=\"mailto:dufourq@aims.ac.za\">dufourq@aims.ac.za</a>). -->\n",
    "\n",
    "To avoid crash RAM problem met with Google Colab, I proced to data preprocessing using another [Python script](https://colab.research.google.com/drive/1_lNJ_jLDlETbmKvocXvfag7DGWQ0RW0C?usp=sharing). This file uses Emmanuel Preprocessing codes (available in drive with this ID : **1js1fz4Bu98NIds4cErL7NdT1efxavixp**). It creates X and Y, and stores them on my drive. Then for the next step, we just use that to train our model."
   ]
  },
  {
   "cell_type": "markdown",
   "metadata": {
    "id": "N_Z1UudAuPh_"
   },
   "source": [
    "# Building of my dataset\n",
    "\n",
    "The dataset is given by a set of the features and set of target.\n",
    "\n",
    "\n",
    "*   The features are 2D-matrix which represent the melspectrogram of the bird sounds recorded at Intaka Island, a harmonious sanctuary of nature and urban in South-Africa.\n",
    "*   The targets relate the absence or presence of a bird sound in a sound.\n",
    "\n"
   ]
  },
  {
   "cell_type": "code",
   "execution_count": null,
   "metadata": {
    "id": "96Emm-k-h998"
   },
   "outputs": [],
   "source": [
    "#Load  and Y from  drive\n",
    "#This takes less than run the preprocessing file directly\n",
    "#because of data size\n",
    "import pickle\n",
    "with open('/content/drive/MyDrive/dl4e/Saved_Data/X-pow.pkl','rb') as f:\n",
    "  X=pickle.load(f)\n",
    "with open('/content/drive/MyDrive/dl4e/Saved_Data/Y-pow.pkl','rb') as f:\n",
    "  Y=pickle.load(f)"
   ]
  },
  {
   "cell_type": "code",
   "execution_count": null,
   "metadata": {
    "colab": {
     "base_uri": "https://localhost:8080/"
    },
    "id": "IvviOnM5u09r",
    "outputId": "893a9656-2f0d-4aec-fe04-0e2691870b46"
   },
   "outputs": [
    {
     "name": "stdout",
     "output_type": "stream",
     "text": [
      "(1020, 88200)\n",
      "(1020,)\n"
     ]
    }
   ],
   "source": [
    "#Shape of data\n",
    "print(X.shape)\n",
    "print(Y.shape)"
   ]
  },
  {
   "cell_type": "code",
   "execution_count": null,
   "metadata": {
    "id": "p6pnpcOBVwqE"
   },
   "outputs": [],
   "source": [
    "#Load parameters from a json\n",
    "#To\n",
    "import json\n",
    "with open(\"params.json\", \"rb\") as f:\n",
    "    params = json.load(f)"
   ]
  },
  {
   "cell_type": "code",
   "execution_count": null,
   "metadata": {
    "colab": {
     "base_uri": "https://localhost:8080/"
    },
    "id": "0vWe4aFgKtKn",
    "outputId": "817313ef-310a-432d-a01a-34e480390fdc"
   },
   "outputs": [
    {
     "data": {
      "text/plain": [
       "{'f_max': 9000,\n",
       " 'f_min': 1000,\n",
       " 'n_fft': 1024,\n",
       " 'hop_length': 256,\n",
       " 'n_mels': 128,\n",
       " 'lowpass_cutoff': 10000,\n",
       " 'nyquist_rate': 11025,\n",
       " 'downsample_rate': 22050,\n",
       " 'segment_duration': 4}"
      ]
     },
     "execution_count": 10,
     "metadata": {},
     "output_type": "execute_result"
    }
   ],
   "source": [
    "params"
   ]
  },
  {
   "cell_type": "code",
   "execution_count": null,
   "metadata": {
    "id": "ZaadrNzFXHQR"
   },
   "outputs": [],
   "source": [
    "fs = params[\"downsample_rate\"]\n",
    "flims = (params['f_min'],params['f_max']) # lower and upper frequency range\n",
    "nperseg = 1024 # window length\n",
    "noverlap = 64 # hop size\n",
    "window = 'hann' #window function\n",
    "db_range = 80"
   ]
  },
  {
   "cell_type": "markdown",
   "metadata": {
    "id": "ejnfw0avKOeS"
   },
   "source": [
    "### Some functions"
   ]
  },
  {
   "cell_type": "code",
   "execution_count": null,
   "metadata": {
    "id": "Km5xDs1L0mWL"
   },
   "outputs": [],
   "source": [
    "# #The ffollozing function compute the spectrogram of an audio\n",
    "# def convert_to_spec(audio):\n",
    "#   \"\"\"Returns the mel spectrogram of audio using maad\"\"\"\n",
    "  # Sxx_audio, _, _, _ = sound.spectrogram(audio, fs, window\n",
    "  #                                        , nperseg, noverlap, flims)\n",
    "#The ffollozing function compute the spectrogram of an audio\n",
    "def convert_to_spec(audio):\n",
    "  \"\"\"Returns the mel spectrogram of audio using maad\"\"\"\n",
    "  S = librosa.feature.melspectrogram(y=audio,\n",
    "                                           n_fft=params[\"n_fft\"],\n",
    "                                           hop_length=params[\"hop_length\"],\n",
    "                                           n_mels=params['n_mels'])\n",
    "  #normalize S, set each item of S between 0 and 1\n",
    "  S = librosa.power_to_db(S, ref=np.max)\n",
    "  mean = S.flatten().mean()\n",
    "  std = S.flatten().std()\n",
    "  eps=1e-8\n",
    "  spec_norm = (S - mean) / (std + eps)\n",
    "  spec_min, spec_max = spec_norm.min(), spec_norm.max()\n",
    "  spec_scaled = (spec_norm - spec_min) / (spec_max - spec_min)\n",
    "  return spec_scaled\n",
    "\n",
    "def convert_all_to_spec(X_all):\n",
    "  \"\"\"Returns a list of the spectrogram from X_all\"\"\"\n",
    "  specs = []\n",
    "\n",
    "  for xs in X_all:\n",
    "    specs.append(convert_to_spec(xs))\n",
    "  return np.array(specs)\n",
    "\n",
    "def convert_all_to_spec(X_all):\n",
    "  \"\"\"Returns a list of the spectrogram from X_all\"\"\"\n",
    "  specs = []\n",
    "\n",
    "  for xs in X_all:\n",
    "    specs.append(convert_to_spec(xs))\n",
    "  return np.array(specs)"
   ]
  },
  {
   "cell_type": "code",
   "execution_count": null,
   "metadata": {
    "id": "ZPy3gA3qkmmb"
   },
   "outputs": [],
   "source": [
    "def augmentation_func(spec):\n",
    "  \"\"\"Returns a new spectrogram by adding a gaussina noise\n",
    "   and for a certain random probability, we add to this spec\n",
    "    a shiftted spec or flipped spec\n",
    "  \"\"\"\n",
    "  prob = random.uniform(0,1)\n",
    "  shift = random.randint(0,len(spec))\n",
    "  new_spec = np.roll(spec, shift)\n",
    "  if prob > 0.5:\n",
    "    #We shift the along the 0 axis\n",
    "     new_spec =  0.02*np.random.normal(spec)\n",
    "  return new_spec\n",
    "\n",
    "\n",
    "def augmented_data(X,Y,number):\n",
    "  augmented_X = []\n",
    "  augmented_Y = []\n",
    "  for i in range(number):\n",
    "    for index, spec, y in zip(count(), X, Y):\n",
    "      augmented_X.append(augmentation_func(spec))\n",
    "      augmented_Y.append(y)\n",
    "  return np.asarray(augmented_X), np.asarray(augmented_Y)"
   ]
  },
  {
   "cell_type": "markdown",
   "metadata": {
    "id": "pHQlt6cH33LZ"
   },
   "source": [
    "### Data augmentation"
   ]
  },
  {
   "cell_type": "code",
   "execution_count": null,
   "metadata": {
    "id": "4h9aupdsj7NJ"
   },
   "outputs": [],
   "source": [
    "#Items in X are array associated to each segment\n",
    "#Convert each of its item into a spec for\n",
    "Xs = convert_all_to_spec(X)\n",
    "#Item in Y are string\n",
    "#Convert them into int\n",
    "Y = np.array([int(y) for y in Y])\n",
    "# print(Y.shape)"
   ]
  },
  {
   "cell_type": "markdown",
   "metadata": {
    "id": "RONf0SeA4ZKD"
   },
   "source": [
    "#### Function tests"
   ]
  },
  {
   "cell_type": "code",
   "execution_count": null,
   "metadata": {
    "colab": {
     "base_uri": "https://localhost:8080/"
    },
    "id": "v0OWg67-rUUD",
    "outputId": "42b12a8e-9619-4f0b-d184-517c5cb0fbf1"
   },
   "outputs": [
    {
     "name": "stdout",
     "output_type": "stream",
     "text": [
      "(1020, 128, 345)\n"
     ]
    }
   ],
   "source": [
    "print(Xs.shape)"
   ]
  },
  {
   "cell_type": "code",
   "execution_count": null,
   "metadata": {
    "colab": {
     "base_uri": "https://localhost:8080/",
     "height": 124
    },
    "id": "lnVbZ8bviM9x",
    "outputId": "a1d08734-cfff-4539-abfb-699ad2db21e2"
   },
   "outputs": [
    {
     "name": "stdout",
     "output_type": "stream",
     "text": [
      "1\n"
     ]
    },
    {
     "data": {
      "text/plain": [
       "<matplotlib.collections.QuadMesh at 0x7dd4364c7c10>"
      ]
     },
     "execution_count": 15,
     "metadata": {},
     "output_type": "execute_result"
    },
    {
     "data": {
      "image/png": "[encoded data removed]",
      "text/plain": [
       "<Figure size 640x480 with 1 Axes>"
      ]
     },
     "metadata": {},
     "output_type": "display_data"
    }
   ],
   "source": [
    "#select randomly the index of an\n",
    "i = random.choice(list(np.where(Y == 1)[0]))\n",
    "# print(i)\n",
    "# i =142\n",
    "print(Y[i])\n",
    "\n",
    "librosa.display.specshow(convert_to_spec(X[i]), sr=fs)"
   ]
  },
  {
   "cell_type": "code",
   "execution_count": null,
   "metadata": {
    "colab": {
     "base_uri": "https://localhost:8080/",
     "height": 423
    },
    "id": "4RdG9A8yDrsI",
    "outputId": "2d48f841-719e-46c3-afde-a6adac8f3e43"
   },
   "outputs": [
    {
     "data": {
      "text/plain": [
       "<matplotlib.collections.QuadMesh at 0x7ee944baeec0>"
      ]
     },
     "execution_count": 64,
     "metadata": {},
     "output_type": "execute_result"
    },
    {
     "data": {
      "image/png": "[encoded data removed]",
      "text/plain": [
       "<Figure size 640x480 with 1 Axes>"
      ]
     },
     "metadata": {},
     "output_type": "display_data"
    }
   ],
   "source": [
    "librosa.display.specshow(Xs[i], sr=fs)"
   ]
  },
  {
   "cell_type": "code",
   "execution_count": null,
   "metadata": {
    "colab": {
     "base_uri": "https://localhost:8080/"
    },
    "id": "Ep2EgOnCZyXo",
    "outputId": "4951243d-03ae-4528-e9bc-2777ade2e285"
   },
   "outputs": [
    {
     "name": "stdout",
     "output_type": "stream",
     "text": [
      "Data distribution: {0: 341, 1: 679}\n"
     ]
    }
   ],
   "source": [
    "unique, counts = np.unique(Y, return_counts=True)\n",
    "original_distribution = dict(zip(unique, counts))\n",
    "print('Data distribution:',original_distribution)"
   ]
  },
  {
   "cell_type": "markdown",
   "metadata": {
    "id": "Ca2HxKS84Aq1"
   },
   "source": [
    "#### Dataset"
   ]
  },
  {
   "cell_type": "code",
   "execution_count": null,
   "metadata": {
    "id": "Ez45CqZYuD6B"
   },
   "outputs": [],
   "source": [
    "# # #Dataset\n",
    "absence_index = list(np.where(Y==0)[0])\n",
    "presence_index = list(np.where(Y==1)[0])\n",
    "augmented_X1, augmented_Y1 = augmented_data(Xs[absence_index,:], Y[absence_index], 2)\n",
    "augmented_X2, augmented_Y2 = augmented_data(Xs[presence_index,:], Y[presence_index], 1)"
   ]
  },
  {
   "cell_type": "code",
   "execution_count": null,
   "metadata": {
    "id": "qabKPqtL-yRb"
   },
   "outputs": [],
   "source": [
    "\n",
    "augmented_X = np.concatenate((augmented_X1, augmented_X2))\n",
    "augmented_Y = np.concatenate((augmented_Y1, augmented_Y2))\n",
    "# augmented_X = Xs\n",
    "# augmented_Y = Y"
   ]
  },
  {
   "cell_type": "code",
   "execution_count": null,
   "metadata": {
    "id": "dKzhtJY9yz4r"
   },
   "outputs": [],
   "source": [
    "del X, Xs, Y, augmented_X1, augmented_Y1,augmented_X2, augmented_Y2"
   ]
  },
  {
   "cell_type": "code",
   "execution_count": null,
   "metadata": {
    "colab": {
     "base_uri": "https://localhost:8080/"
    },
    "id": "9kkG4irlq8wT",
    "outputId": "1eff8495-1efa-4d1f-e711-0f9519d9b47d"
   },
   "outputs": [
    {
     "name": "stdout",
     "output_type": "stream",
     "text": [
      "Data distribution: {0: 682, 1: 679}\n"
     ]
    }
   ],
   "source": [
    "unique, counts = np.unique(augmented_Y, return_counts=True)\n",
    "original_distribution = dict(zip(unique, counts))\n",
    "print('Data distribution:',original_distribution)"
   ]
  },
  {
   "cell_type": "code",
   "execution_count": null,
   "metadata": {
    "colab": {
     "base_uri": "https://localhost:8080/"
    },
    "id": "C7AxJ7SuyKqW",
    "outputId": "5ad4396d-969c-498b-eb10-eb306cc42cdb"
   },
   "outputs": [
    {
     "name": "stdout",
     "output_type": "stream",
     "text": [
      "(1361, 128, 345)\n",
      "(1361,)\n"
     ]
    }
   ],
   "source": [
    "print(augmented_X.shape)\n",
    "print(augmented_Y.shape)"
   ]
  },
  {
   "cell_type": "code",
   "execution_count": null,
   "metadata": {
    "id": "kyk5Kc4Kz_SC"
   },
   "outputs": [],
   "source": [
    "#reshape augmented_X by adding one channel\n",
    "augmented_X = augmented_X.reshape(augmented_X.shape[0],augmented_X.shape[1],augmented_X.shape[2], 1)"
   ]
  },
  {
   "cell_type": "code",
   "execution_count": null,
   "metadata": {
    "id": "717bak58yt-I"
   },
   "outputs": [],
   "source": [
    "#One-hot encoding\n",
    "augmented_Y = to_categorical(augmented_Y)"
   ]
  },
  {
   "cell_type": "code",
   "execution_count": null,
   "metadata": {
    "colab": {
     "base_uri": "https://localhost:8080/"
    },
    "id": "ueq52zKSz88F",
    "outputId": "97561c71-1af4-46ec-dd2d-84c9f5380363"
   },
   "outputs": [
    {
     "name": "stdout",
     "output_type": "stream",
     "text": [
      "(1361, 128, 345, 1)\n",
      "(1361, 2)\n"
     ]
    }
   ],
   "source": [
    "print(augmented_X.shape)\n",
    "print(augmented_Y.shape)"
   ]
  },
  {
   "cell_type": "code",
   "execution_count": null,
   "metadata": {
    "id": "yCraF5rWThox"
   },
   "outputs": [],
   "source": [
    "from sklearn.model_selection import train_test_split\n",
    "seed = 123\n",
    "\n",
    "X_train, X_val, Y_train, Y_val = train_test_split(augmented_X, augmented_Y,\n",
    "            test_size=0.2, random_state=seed,\n",
    "            shuffle=True)"
   ]
  },
  {
   "cell_type": "code",
   "execution_count": null,
   "metadata": {
    "colab": {
     "base_uri": "https://localhost:8080/"
    },
    "id": "FrqM7mHczMrE",
    "outputId": "d0753a98-3afe-4a93-a717-83eff6831e84"
   },
   "outputs": [
    {
     "name": "stdout",
     "output_type": "stream",
     "text": [
      "(268,)\n",
      "(278,)\n"
     ]
    }
   ],
   "source": [
    "print(np.where(Y_val == [0, 1])[0].shape)\n",
    "print(np.where(Y_val == [1, 0])[0].shape)"
   ]
  },
  {
   "cell_type": "code",
   "execution_count": null,
   "metadata": {
    "id": "87vWtQ53HyPH"
   },
   "outputs": [],
   "source": [
    "del augmented_X, augmented_Y"
   ]
  },
  {
   "cell_type": "code",
   "execution_count": null,
   "metadata": {
    "id": "aJlr2bxzyE-R"
   },
   "outputs": [],
   "source": [
    "#Load testing files\n",
    "#create testing data\n",
    "with open('/content/drive/MyDrive/dl4e/Saved_Data/X_test.pkl','rb') as f:\n",
    "  X_test=pickle.load(f)\n",
    "with open('/content/drive/MyDrive/dl4e/Saved_Data/Y_test.pkl','rb') as f:\n",
    "  Y_test=pickle.load(f)"
   ]
  },
  {
   "cell_type": "code",
   "execution_count": null,
   "metadata": {
    "colab": {
     "base_uri": "https://localhost:8080/"
    },
    "id": "DXGYXZioz81p",
    "outputId": "db3e7460-4ed7-4d22-fdfb-aa79b7cc9567"
   },
   "outputs": [
    {
     "name": "stdout",
     "output_type": "stream",
     "text": [
      "(314, 128, 345)\n",
      "(314,)\n"
     ]
    }
   ],
   "source": [
    "print(X_test.shape)\n",
    "print(Y_test.shape)"
   ]
  },
  {
   "cell_type": "code",
   "execution_count": null,
   "metadata": {
    "id": "UWKmbozw0O1V"
   },
   "outputs": [],
   "source": [
    "X_test = convert_all_to_spec(X_test[:500])\n",
    "#Item in Y are string\n",
    "#Convert them into int\n",
    "Y_test = np.array([int(y) for y in Y_test[:500]])\n",
    "# print(Y.shape)"
   ]
  },
  {
   "cell_type": "code",
   "execution_count": null,
   "metadata": {
    "id": "x8cp9CKI0pa7"
   },
   "outputs": [],
   "source": [
    "#reshape X_test\n",
    "X_test = X_test.reshape(X_test.shape[0], X_test.shape[1], X_test.shape[2], 1)\n",
    "#Encode Y_test\n",
    "Y_test = to_categorical(Y_test)"
   ]
  },
  {
   "cell_type": "code",
   "execution_count": null,
   "metadata": {
    "colab": {
     "base_uri": "https://localhost:8080/"
    },
    "id": "8yNasNKmFdm_",
    "outputId": "505989c6-ed51-4e8a-b3ad-470f05deda86"
   },
   "outputs": [
    {
     "name": "stdout",
     "output_type": "stream",
     "text": [
      "(314, 128, 345, 1)\n",
      "(314, 2)\n"
     ]
    }
   ],
   "source": [
    "print(X_test.shape)\n",
    "print(Y_test.shape)"
   ]
  },
  {
   "cell_type": "code",
   "execution_count": null,
   "metadata": {
    "id": "e49i9AOvCa0p"
   },
   "outputs": [],
   "source": [
    "INPUT_SHAPE = (X_train.shape[1],X_train.shape[2], X_train[3])"
   ]
  },
  {
   "cell_type": "markdown",
   "metadata": {
    "id": "D63C4ZVkzDJg"
   },
   "source": [
    "# Model"
   ]
  },
  {
   "cell_type": "markdown",
   "metadata": {
    "id": "uwytnz-V3U3L"
   },
   "source": [
    "### model 1"
   ]
  },
  {
   "cell_type": "code",
   "execution_count": null,
   "metadata": {
    "colab": {
     "base_uri": "https://localhost:8080/"
    },
    "id": "x5pFbBTi1Grs",
    "outputId": "8f37447e-0f94-42e4-b8f0-2a79312b2b1b"
   },
   "outputs": [
    {
     "name": "stdout",
     "output_type": "stream",
     "text": [
      "Model: \"sequential\"\n",
      "_________________________________________________________________\n",
      " Layer (type)                Output Shape              Param #   \n",
      "=================================================================\n",
      " conv2d (Conv2D)             (None, 125, 342, 128)     2176      \n",
      "                                                                 \n",
      " max_pooling2d (MaxPooling2  (None, 62, 171, 128)      0         \n",
      " D)                                                              \n",
      "                                                                 \n",
      " flatten (Flatten)           (None, 1357056)           0         \n",
      "                                                                 \n",
      " dense (Dense)               (None, 128)               173703296 \n",
      "                                                                 \n",
      " dense_1 (Dense)             (None, 2)                 258       \n",
      "                                                                 \n",
      "=================================================================\n",
      "Total params: 173705730 (662.63 MB)\n",
      "Trainable params: 173705730 (662.63 MB)\n",
      "Non-trainable params: 0 (0.00 Byte)\n",
      "_________________________________________________________________\n"
     ]
    }
   ],
   "source": [
    "#Create model\n",
    "model = Sequential()\n",
    "#Create some CNN layers\n",
    "model.add(Conv2D(filters = 128,kernel_size=4, activation='relu',input_shape=INPUT_SHAPE))\n",
    "model.add(MaxPool2D())\n",
    "#Convert in vector\n",
    "model.add(Flatten())\n",
    "#Neural network\n",
    "model.add(Dense(128, activation=\"relu\"))\n",
    "model.add(Dense(2, activation=\"sigmoid\"))\n",
    "model.summary()"
   ]
  },
  {
   "cell_type": "code",
   "execution_count": null,
   "metadata": {
    "colab": {
     "base_uri": "https://localhost:8080/"
    },
    "id": "b5Um08dRdB7Y",
    "outputId": "71604a85-5933-4450-9739-f5e7d24ffe56"
   },
   "outputs": [
    {
     "name": "stdout",
     "output_type": "stream",
     "text": [
      "Epoch 1/15\n",
      "9/9 [==============================] - 9s 436ms/step - loss: 9.3504 - accuracy: 0.4862 - val_loss: 1.1375 - val_accuracy: 0.4908\n",
      "Epoch 2/15\n",
      "9/9 [==============================] - 2s 269ms/step - loss: 1.2266 - accuracy: 0.5276 - val_loss: 0.8403 - val_accuracy: 0.4908\n",
      "Epoch 3/15\n",
      "9/9 [==============================] - 2s 279ms/step - loss: 0.7213 - accuracy: 0.5239 - val_loss: 0.6844 - val_accuracy: 0.5092\n",
      "Epoch 4/15\n",
      "9/9 [==============================] - 2s 257ms/step - loss: 0.6778 - accuracy: 0.5211 - val_loss: 0.6825 - val_accuracy: 0.4982\n",
      "Epoch 5/15\n",
      "9/9 [==============================] - 2s 259ms/step - loss: 0.6530 - accuracy: 0.6664 - val_loss: 0.6752 - val_accuracy: 0.5751\n",
      "Epoch 6/15\n",
      "9/9 [==============================] - 2s 258ms/step - loss: 0.5980 - accuracy: 0.6949 - val_loss: 0.6378 - val_accuracy: 0.6190\n",
      "Epoch 7/15\n",
      "9/9 [==============================] - 3s 284ms/step - loss: 0.5118 - accuracy: 0.8051 - val_loss: 0.6238 - val_accuracy: 0.6630\n",
      "Epoch 8/15\n",
      "9/9 [==============================] - 3s 283ms/step - loss: 0.4192 - accuracy: 0.8438 - val_loss: 0.6751 - val_accuracy: 0.5897\n",
      "Epoch 9/15\n",
      "9/9 [==============================] - 2s 262ms/step - loss: 0.3794 - accuracy: 0.8392 - val_loss: 0.6276 - val_accuracy: 0.6190\n",
      "Epoch 10/15\n",
      "9/9 [==============================] - 2s 261ms/step - loss: 0.3399 - accuracy: 0.8428 - val_loss: 0.5789 - val_accuracy: 0.7179\n",
      "Epoch 11/15\n",
      "9/9 [==============================] - 2s 280ms/step - loss: 0.2881 - accuracy: 0.8695 - val_loss: 0.6466 - val_accuracy: 0.6081\n",
      "Epoch 12/15\n",
      "9/9 [==============================] - 2s 263ms/step - loss: 0.2586 - accuracy: 0.8851 - val_loss: 0.5658 - val_accuracy: 0.7216\n",
      "Epoch 13/15\n",
      "9/9 [==============================] - 3s 286ms/step - loss: 0.2166 - accuracy: 0.9219 - val_loss: 0.7497 - val_accuracy: 0.6227\n",
      "Epoch 14/15\n",
      "9/9 [==============================] - 2s 261ms/step - loss: 0.2388 - accuracy: 0.8925 - val_loss: 0.5415 - val_accuracy: 0.7216\n",
      "Epoch 15/15\n",
      "9/9 [==============================] - 2s 259ms/step - loss: 0.1880 - accuracy: 0.9311 - val_loss: 0.5363 - val_accuracy: 0.7326\n"
     ]
    }
   ],
   "source": [
    "# with tf.device(\"/device:GPU:0\"):\n",
    "model.compile(loss='categorical_crossentropy', optimizer='adam',metrics=['accuracy'])\n",
    "# history = model.fit(augmented_X,augmented_Y,validation_split=0.3,\n",
    "#                     batch_size=256,epochs=5,shuffle=True)\n",
    "history = model.fit(X_train,Y_train,\n",
    "                      validation_data=(X_val, Y_val),\n",
    "                      epochs=15,batch_size=128)"
   ]
  },
  {
   "cell_type": "code",
   "execution_count": null,
   "metadata": {
    "colab": {
     "base_uri": "https://localhost:8080/"
    },
    "id": "v7p_GnzpyKt8",
    "outputId": "2d67f6ea-a4de-4e98-e032-ae36e98375fa"
   },
   "outputs": [
    {
     "name": "stdout",
     "output_type": "stream",
     "text": [
      "10/10 [==============================] - 1s 40ms/step - loss: 0.5169 - accuracy: 0.7038\n"
     ]
    },
    {
     "data": {
      "text/plain": [
       "[0.5168800950050354, 0.7038216590881348]"
      ]
     },
     "execution_count": 36,
     "metadata": {},
     "output_type": "execute_result"
    }
   ],
   "source": [
    "model.evaluate(X_test, Y_test)"
   ]
  },
  {
   "cell_type": "code",
   "execution_count": null,
   "metadata": {
    "colab": {
     "base_uri": "https://localhost:8080/"
    },
    "id": "wZ0nGMt-HuW-",
    "outputId": "dd9e41a1-ca7c-4e09-90d0-ce15684ea202"
   },
   "outputs": [
    {
     "name": "stdout",
     "output_type": "stream",
     "text": [
      "16/16 [==============================] - 22s 1s/step\n"
     ]
    }
   ],
   "source": [
    "from sklearn.metrics import confusion_matrix\n",
    "\n",
    "Y_pred = model.predict(X_test)  # Get predicted classes"
   ]
  },
  {
   "cell_type": "code",
   "execution_count": null,
   "metadata": {
    "id": "KyAL9qIRsbs4"
   },
   "outputs": [],
   "source": [
    "with open(\"history_model_1.pkl\", \"wb\") as f:\n",
    "  pickle.dump({\"history\":history,\"model\":model}, f)"
   ]
  },
  {
   "cell_type": "code",
   "execution_count": null,
   "metadata": {
    "colab": {
     "base_uri": "https://localhost:8080/",
     "height": 447
    },
    "id": "u5sVV6jqxRjN",
    "outputId": "1cac0ed0-65a6-4ad6-c107-f11bcc88804f"
   },
   "outputs": [
    {
     "data": {
      "text/plain": [
       "<matplotlib.legend.Legend at 0x7dd437043be0>"
      ]
     },
     "execution_count": 38,
     "metadata": {},
     "output_type": "execute_result"
    },
    {
     "data": {
      "image/png": "[encoded data removed]",
      "text/plain": [
       "<Figure size 640x480 with 1 Axes>"
      ]
     },
     "metadata": {},
     "output_type": "display_data"
    }
   ],
   "source": [
    "plt.plot(history.history['loss'], label='loss')\n",
    "plt.plot(history.history['val_loss'], label=\"val_loss\")\n",
    "plt.legend()"
   ]
  },
  {
   "cell_type": "code",
   "execution_count": null,
   "metadata": {
    "id": "G_wplgiZKTYq"
   },
   "outputs": [],
   "source": [
    "del history"
   ]
  },
  {
   "cell_type": "markdown",
   "metadata": {
    "id": "T9DehA__3aAc"
   },
   "source": [
    "### model 2"
   ]
  },
  {
   "cell_type": "code",
   "execution_count": null,
   "metadata": {
    "id": "we02dISfQjsu"
   },
   "outputs": [],
   "source": [
    "X_train = np.concatenate((X_train, X_train, X_train), axis=-1)\n",
    "X_val = np.concatenate((X_val, X_val, X_val), axis=-1)"
   ]
  },
  {
   "cell_type": "code",
   "execution_count": null,
   "metadata": {
    "colab": {
     "base_uri": "https://localhost:8080/"
    },
    "id": "Yc4hOn4-Q_x_",
    "outputId": "f7a80236-7599-4c0f-d20f-9e501791983d"
   },
   "outputs": [
    {
     "name": "stdout",
     "output_type": "stream",
     "text": [
      "(1088, 128, 345, 3)\n"
     ]
    }
   ],
   "source": [
    "print(X_train.shape)"
   ]
  },
  {
   "cell_type": "code",
   "execution_count": null,
   "metadata": {
    "id": "6UP91gIdQ42u"
   },
   "outputs": [],
   "source": [
    "INPUT_SHAPE = X_train.shape[1:]"
   ]
  },
  {
   "cell_type": "code",
   "execution_count": null,
   "metadata": {
    "id": "s6M6CKhSOXvY"
   },
   "outputs": [],
   "source": [
    "from keras.callbacks import ModelCheckpoint\n",
    "from tensorflow.keras.layers import Flatten, Dense\n",
    "from tensorflow.keras.applications import ResNet50V2\n",
    "from tensorflow.keras.models import Model\n",
    "from tensorflow.keras.callbacks import ModelCheckpoint\n",
    "import tensorflow as tf\n",
    "from tensorflow.keras import Input\n",
    "from tensorflow.keras.optimizers import Adam"
   ]
  },
  {
   "cell_type": "code",
   "execution_count": null,
   "metadata": {
    "colab": {
     "base_uri": "https://localhost:8080/"
    },
    "id": "wlvOoN9s_jBj",
    "outputId": "37bcba62-6615-4b34-da91-79ae9f5cb354"
   },
   "outputs": [
    {
     "name": "stdout",
     "output_type": "stream",
     "text": [
      "Downloading data from https://storage.googleapis.com/tensorflow/keras-applications/resnet/resnet50v2_weights_tf_dim_ordering_tf_kernels_notop.h5\n",
      "94668760/94668760 [==============================] - 0s 0us/step\n"
     ]
    }
   ],
   "source": [
    "#Model 2\n",
    "#We perfom here a transfert learning\n",
    "base_model = ResNet50V2(weights=\"imagenet\",\n",
    "            input_shape=INPUT_SHAPE,\n",
    "            include_top=False)#"
   ]
  },
  {
   "cell_type": "code",
   "execution_count": null,
   "metadata": {
    "id": "c277cy1dNH2n"
   },
   "outputs": [],
   "source": [
    "# Freeze the base_model\n",
    "base_model.trainable = False"
   ]
  },
  {
   "cell_type": "code",
   "execution_count": null,
   "metadata": {
    "id": "0LBAh5nO_1gS"
   },
   "outputs": [],
   "source": [
    "# with tf.device(\"/device:GPU:0\"):\n",
    "\n",
    "# Create new model on top\n",
    "inputs = Input(shape=INPUT_SHAPE)\n",
    "x = base_model(inputs, training=False)\n",
    "x = Flatten()(x)\n",
    "outputs = Dense(2, activation='softmax')(x)\n",
    "model = Model(inputs, outputs)\n",
    "model.compile(loss='categorical_crossentropy', optimizer='adam',metrics=['accuracy'])\n",
    "\n",
    "filepath=\"{}_FineTuned.hdf5\".format(seed)\n",
    "checkpoint = ModelCheckpoint(filepath, monitor='val_loss', verbose=1, save_best_only=True, mode='min')\n",
    "callbacks_list = [checkpoint]"
   ]
  },
  {
   "cell_type": "code",
   "execution_count": null,
   "metadata": {
    "colab": {
     "base_uri": "https://localhost:8080/"
    },
    "id": "1-GwC7yVOfRe",
    "outputId": "317c7e1d-75bb-4d1f-dc86-ea4a29dcc785",
    "scrolled": true
   },
   "outputs": [
    {
     "name": "stdout",
     "output_type": "stream",
     "text": [
      "Model: \"resnet50v2\"\n",
      "__________________________________________________________________________________________________\n",
      " Layer (type)                Output Shape                 Param #   Connected to                  \n",
      "==================================================================================================\n",
      " input_1 (InputLayer)        [(None, 128, 345, 3)]        0         []                            \n",
      "                                                                                                  \n",
      " conv1_pad (ZeroPadding2D)   (None, 134, 351, 3)          0         ['input_1[0][0]']             \n",
      "                                                                                                  \n",
      " conv1_conv (Conv2D)         (None, 64, 173, 64)          9472      ['conv1_pad[0][0]']           \n",
      "                                                                                                  \n",
      " pool1_pad (ZeroPadding2D)   (None, 66, 175, 64)          0         ['conv1_conv[0][0]']          \n",
      "                                                                                                  \n",
      " pool1_pool (MaxPooling2D)   (None, 32, 87, 64)           0         ['pool1_pad[0][0]']           \n",
      "                                                                                                  \n",
      " conv2_block1_preact_bn (Ba  (None, 32, 87, 64)           256       ['pool1_pool[0][0]']          \n",
      " tchNormalization)                                                                                \n",
      "                                                                                                  \n",
      " conv2_block1_preact_relu (  (None, 32, 87, 64)           0         ['conv2_block1_preact_bn[0][0]\n",
      " Activation)                                                        ']                            \n",
      "                                                                                                  \n",
      " conv2_block1_1_conv (Conv2  (None, 32, 87, 64)           4096      ['conv2_block1_preact_relu[0][\n",
      " D)                                                                 0]']                          \n",
      "                                                                                                  \n",
      " conv2_block1_1_bn (BatchNo  (None, 32, 87, 64)           256       ['conv2_block1_1_conv[0][0]'] \n",
      " rmalization)                                                                                     \n",
      "                                                                                                  \n",
      " conv2_block1_1_relu (Activ  (None, 32, 87, 64)           0         ['conv2_block1_1_bn[0][0]']   \n",
      " ation)                                                                                           \n",
      "                                                                                                  \n",
      " conv2_block1_2_pad (ZeroPa  (None, 34, 89, 64)           0         ['conv2_block1_1_relu[0][0]'] \n",
      " dding2D)                                                                                         \n",
      "                                                                                                  \n",
      " conv2_block1_2_conv (Conv2  (None, 32, 87, 64)           36864     ['conv2_block1_2_pad[0][0]']  \n",
      " D)                                                                                               \n",
      "                                                                                                  \n",
      " conv2_block1_2_bn (BatchNo  (None, 32, 87, 64)           256       ['conv2_block1_2_conv[0][0]'] \n",
      " rmalization)                                                                                     \n",
      "                                                                                                  \n",
      " conv2_block1_2_relu (Activ  (None, 32, 87, 64)           0         ['conv2_block1_2_bn[0][0]']   \n",
      " ation)                                                                                           \n",
      "                                                                                                  \n",
      " conv2_block1_0_conv (Conv2  (None, 32, 87, 256)          16640     ['conv2_block1_preact_relu[0][\n",
      " D)                                                                 0]']                          \n",
      "                                                                                                  \n",
      " conv2_block1_3_conv (Conv2  (None, 32, 87, 256)          16640     ['conv2_block1_2_relu[0][0]'] \n",
      " D)                                                                                               \n",
      "                                                                                                  \n",
      " conv2_block1_out (Add)      (None, 32, 87, 256)          0         ['conv2_block1_0_conv[0][0]', \n",
      "                                                                     'conv2_block1_3_conv[0][0]'] \n",
      "                                                                                                  \n",
      " conv2_block2_preact_bn (Ba  (None, 32, 87, 256)          1024      ['conv2_block1_out[0][0]']    \n",
      " tchNormalization)                                                                                \n",
      "                                                                                                  \n",
      " conv2_block2_preact_relu (  (None, 32, 87, 256)          0         ['conv2_block2_preact_bn[0][0]\n",
      " Activation)                                                        ']                            \n",
      "                                                                                                  \n",
      " conv2_block2_1_conv (Conv2  (None, 32, 87, 64)           16384     ['conv2_block2_preact_relu[0][\n",
      " D)                                                                 0]']                          \n",
      "                                                                                                  \n",
      " conv2_block2_1_bn (BatchNo  (None, 32, 87, 64)           256       ['conv2_block2_1_conv[0][0]'] \n",
      " rmalization)                                                                                     \n",
      "                                                                                                  \n",
      " conv2_block2_1_relu (Activ  (None, 32, 87, 64)           0         ['conv2_block2_1_bn[0][0]']   \n",
      " ation)                                                                                           \n",
      "                                                                                                  \n",
      " conv2_block2_2_pad (ZeroPa  (None, 34, 89, 64)           0         ['conv2_block2_1_relu[0][0]'] \n",
      " dding2D)                                                                                         \n",
      "                                                                                                  \n",
      " conv2_block2_2_conv (Conv2  (None, 32, 87, 64)           36864     ['conv2_block2_2_pad[0][0]']  \n",
      " D)                                                                                               \n",
      "                                                                                                  \n",
      " conv2_block2_2_bn (BatchNo  (None, 32, 87, 64)           256       ['conv2_block2_2_conv[0][0]'] \n",
      " rmalization)                                                                                     \n",
      "                                                                                                  \n",
      " conv2_block2_2_relu (Activ  (None, 32, 87, 64)           0         ['conv2_block2_2_bn[0][0]']   \n",
      " ation)                                                                                           \n",
      "                                                                                                  \n",
      " conv2_block2_3_conv (Conv2  (None, 32, 87, 256)          16640     ['conv2_block2_2_relu[0][0]'] \n",
      " D)                                                                                               \n",
      "                                                                                                  \n",
      " conv2_block2_out (Add)      (None, 32, 87, 256)          0         ['conv2_block1_out[0][0]',    \n",
      "                                                                     'conv2_block2_3_conv[0][0]'] \n",
      "                                                                                                  \n",
      " conv2_block3_preact_bn (Ba  (None, 32, 87, 256)          1024      ['conv2_block2_out[0][0]']    \n",
      " tchNormalization)                                                                                \n",
      "                                                                                                  \n",
      " conv2_block3_preact_relu (  (None, 32, 87, 256)          0         ['conv2_block3_preact_bn[0][0]\n",
      " Activation)                                                        ']                            \n",
      "                                                                                                  \n",
      " conv2_block3_1_conv (Conv2  (None, 32, 87, 64)           16384     ['conv2_block3_preact_relu[0][\n",
      " D)                                                                 0]']                          \n",
      "                                                                                                  \n",
      " conv2_block3_1_bn (BatchNo  (None, 32, 87, 64)           256       ['conv2_block3_1_conv[0][0]'] \n",
      " rmalization)                                                                                     \n",
      "                                                                                                  \n",
      " conv2_block3_1_relu (Activ  (None, 32, 87, 64)           0         ['conv2_block3_1_bn[0][0]']   \n",
      " ation)                                                                                           \n",
      "                                                                                                  \n",
      " conv2_block3_2_pad (ZeroPa  (None, 34, 89, 64)           0         ['conv2_block3_1_relu[0][0]'] \n",
      " dding2D)                                                                                         \n",
      "                                                                                                  \n",
      " conv2_block3_2_conv (Conv2  (None, 16, 44, 64)           36864     ['conv2_block3_2_pad[0][0]']  \n",
      " D)                                                                                               \n",
      "                                                                                                  \n",
      " conv2_block3_2_bn (BatchNo  (None, 16, 44, 64)           256       ['conv2_block3_2_conv[0][0]'] \n",
      " rmalization)                                                                                     \n",
      "                                                                                                  \n",
      " conv2_block3_2_relu (Activ  (None, 16, 44, 64)           0         ['conv2_block3_2_bn[0][0]']   \n",
      " ation)                                                                                           \n",
      "                                                                                                  \n",
      " max_pooling2d (MaxPooling2  (None, 16, 44, 256)          0         ['conv2_block2_out[0][0]']    \n",
      " D)                                                                                               \n",
      "                                                                                                  \n",
      " conv2_block3_3_conv (Conv2  (None, 16, 44, 256)          16640     ['conv2_block3_2_relu[0][0]'] \n",
      " D)                                                                                               \n",
      "                                                                                                  \n",
      " conv2_block3_out (Add)      (None, 16, 44, 256)          0         ['max_pooling2d[0][0]',       \n",
      "                                                                     'conv2_block3_3_conv[0][0]'] \n",
      "                                                                                                  \n",
      " conv3_block1_preact_bn (Ba  (None, 16, 44, 256)          1024      ['conv2_block3_out[0][0]']    \n",
      " tchNormalization)                                                                                \n",
      "                                                                                                  \n",
      " conv3_block1_preact_relu (  (None, 16, 44, 256)          0         ['conv3_block1_preact_bn[0][0]\n",
      " Activation)                                                        ']                            \n",
      "                                                                                                  \n",
      " conv3_block1_1_conv (Conv2  (None, 16, 44, 128)          32768     ['conv3_block1_preact_relu[0][\n",
      " D)                                                                 0]']                          \n",
      "                                                                                                  \n",
      " conv3_block1_1_bn (BatchNo  (None, 16, 44, 128)          512       ['conv3_block1_1_conv[0][0]'] \n",
      " rmalization)                                                                                     \n",
      "                                                                                                  \n",
      " conv3_block1_1_relu (Activ  (None, 16, 44, 128)          0         ['conv3_block1_1_bn[0][0]']   \n",
      " ation)                                                                                           \n",
      "                                                                                                  \n",
      " conv3_block1_2_pad (ZeroPa  (None, 18, 46, 128)          0         ['conv3_block1_1_relu[0][0]'] \n",
      " dding2D)                                                                                         \n",
      "                                                                                                  \n",
      " conv3_block1_2_conv (Conv2  (None, 16, 44, 128)          147456    ['conv3_block1_2_pad[0][0]']  \n",
      " D)                                                                                               \n",
      "                                                                                                  \n",
      " conv3_block1_2_bn (BatchNo  (None, 16, 44, 128)          512       ['conv3_block1_2_conv[0][0]'] \n",
      " rmalization)                                                                                     \n",
      "                                                                                                  \n",
      " conv3_block1_2_relu (Activ  (None, 16, 44, 128)          0         ['conv3_block1_2_bn[0][0]']   \n",
      " ation)                                                                                           \n",
      "                                                                                                  \n",
      " conv3_block1_0_conv (Conv2  (None, 16, 44, 512)          131584    ['conv3_block1_preact_relu[0][\n",
      " D)                                                                 0]']                          \n",
      "                                                                                                  \n",
      " conv3_block1_3_conv (Conv2  (None, 16, 44, 512)          66048     ['conv3_block1_2_relu[0][0]'] \n",
      " D)                                                                                               \n",
      "                                                                                                  \n",
      " conv3_block1_out (Add)      (None, 16, 44, 512)          0         ['conv3_block1_0_conv[0][0]', \n",
      "                                                                     'conv3_block1_3_conv[0][0]'] \n",
      "                                                                                                  \n",
      " conv3_block2_preact_bn (Ba  (None, 16, 44, 512)          2048      ['conv3_block1_out[0][0]']    \n",
      " tchNormalization)                                                                                \n",
      "                                                                                                  \n",
      " conv3_block2_preact_relu (  (None, 16, 44, 512)          0         ['conv3_block2_preact_bn[0][0]\n",
      " Activation)                                                        ']                            \n",
      "                                                                                                  \n",
      " conv3_block2_1_conv (Conv2  (None, 16, 44, 128)          65536     ['conv3_block2_preact_relu[0][\n",
      " D)                                                                 0]']                          \n",
      "                                                                                                  \n",
      " conv3_block2_1_bn (BatchNo  (None, 16, 44, 128)          512       ['conv3_block2_1_conv[0][0]'] \n",
      " rmalization)                                                                                     \n",
      "                                                                                                  \n",
      " conv3_block2_1_relu (Activ  (None, 16, 44, 128)          0         ['conv3_block2_1_bn[0][0]']   \n",
      " ation)                                                                                           \n",
      "                                                                                                  \n",
      " conv3_block2_2_pad (ZeroPa  (None, 18, 46, 128)          0         ['conv3_block2_1_relu[0][0]'] \n",
      " dding2D)                                                                                         \n",
      "                                                                                                  \n",
      " conv3_block2_2_conv (Conv2  (None, 16, 44, 128)          147456    ['conv3_block2_2_pad[0][0]']  \n",
      " D)                                                                                               \n",
      "                                                                                                  \n",
      " conv3_block2_2_bn (BatchNo  (None, 16, 44, 128)          512       ['conv3_block2_2_conv[0][0]'] \n",
      " rmalization)                                                                                     \n",
      "                                                                                                  \n",
      " conv3_block2_2_relu (Activ  (None, 16, 44, 128)          0         ['conv3_block2_2_bn[0][0]']   \n",
      " ation)                                                                                           \n",
      "                                                                                                  \n",
      " conv3_block2_3_conv (Conv2  (None, 16, 44, 512)          66048     ['conv3_block2_2_relu[0][0]'] \n",
      " D)                                                                                               \n",
      "                                                                                                  \n",
      " conv3_block2_out (Add)      (None, 16, 44, 512)          0         ['conv3_block1_out[0][0]',    \n",
      "                                                                     'conv3_block2_3_conv[0][0]'] \n",
      "                                                                                                  \n",
      " conv3_block3_preact_bn (Ba  (None, 16, 44, 512)          2048      ['conv3_block2_out[0][0]']    \n",
      " tchNormalization)                                                                                \n",
      "                                                                                                  \n",
      " conv3_block3_preact_relu (  (None, 16, 44, 512)          0         ['conv3_block3_preact_bn[0][0]\n",
      " Activation)                                                        ']                            \n",
      "                                                                                                  \n",
      " conv3_block3_1_conv (Conv2  (None, 16, 44, 128)          65536     ['conv3_block3_preact_relu[0][\n",
      " D)                                                                 0]']                          \n",
      "                                                                                                  \n",
      " conv3_block3_1_bn (BatchNo  (None, 16, 44, 128)          512       ['conv3_block3_1_conv[0][0]'] \n",
      " rmalization)                                                                                     \n",
      "                                                                                                  \n",
      " conv3_block3_1_relu (Activ  (None, 16, 44, 128)          0         ['conv3_block3_1_bn[0][0]']   \n",
      " ation)                                                                                           \n",
      "                                                                                                  \n",
      " conv3_block3_2_pad (ZeroPa  (None, 18, 46, 128)          0         ['conv3_block3_1_relu[0][0]'] \n",
      " dding2D)                                                                                         \n",
      "                                                                                                  \n",
      " conv3_block3_2_conv (Conv2  (None, 16, 44, 128)          147456    ['conv3_block3_2_pad[0][0]']  \n",
      " D)                                                                                               \n",
      "                                                                                                  \n",
      " conv3_block3_2_bn (BatchNo  (None, 16, 44, 128)          512       ['conv3_block3_2_conv[0][0]'] \n",
      " rmalization)                                                                                     \n",
      "                                                                                                  \n",
      " conv3_block3_2_relu (Activ  (None, 16, 44, 128)          0         ['conv3_block3_2_bn[0][0]']   \n",
      " ation)                                                                                           \n",
      "                                                                                                  \n",
      " conv3_block3_3_conv (Conv2  (None, 16, 44, 512)          66048     ['conv3_block3_2_relu[0][0]'] \n",
      " D)                                                                                               \n",
      "                                                                                                  \n",
      " conv3_block3_out (Add)      (None, 16, 44, 512)          0         ['conv3_block2_out[0][0]',    \n",
      "                                                                     'conv3_block3_3_conv[0][0]'] \n",
      "                                                                                                  \n",
      " conv3_block4_preact_bn (Ba  (None, 16, 44, 512)          2048      ['conv3_block3_out[0][0]']    \n",
      " tchNormalization)                                                                                \n",
      "                                                                                                  \n",
      " conv3_block4_preact_relu (  (None, 16, 44, 512)          0         ['conv3_block4_preact_bn[0][0]\n",
      " Activation)                                                        ']                            \n",
      "                                                                                                  \n",
      " conv3_block4_1_conv (Conv2  (None, 16, 44, 128)          65536     ['conv3_block4_preact_relu[0][\n",
      " D)                                                                 0]']                          \n",
      "                                                                                                  \n",
      " conv3_block4_1_bn (BatchNo  (None, 16, 44, 128)          512       ['conv3_block4_1_conv[0][0]'] \n",
      " rmalization)                                                                                     \n",
      "                                                                                                  \n",
      " conv3_block4_1_relu (Activ  (None, 16, 44, 128)          0         ['conv3_block4_1_bn[0][0]']   \n",
      " ation)                                                                                           \n",
      "                                                                                                  \n",
      " conv3_block4_2_pad (ZeroPa  (None, 18, 46, 128)          0         ['conv3_block4_1_relu[0][0]'] \n",
      " dding2D)                                                                                         \n",
      "                                                                                                  \n",
      " conv3_block4_2_conv (Conv2  (None, 8, 22, 128)           147456    ['conv3_block4_2_pad[0][0]']  \n",
      " D)                                                                                               \n",
      "                                                                                                  \n",
      " conv3_block4_2_bn (BatchNo  (None, 8, 22, 128)           512       ['conv3_block4_2_conv[0][0]'] \n",
      " rmalization)                                                                                     \n",
      "                                                                                                  \n",
      " conv3_block4_2_relu (Activ  (None, 8, 22, 128)           0         ['conv3_block4_2_bn[0][0]']   \n",
      " ation)                                                                                           \n",
      "                                                                                                  \n",
      " max_pooling2d_1 (MaxPoolin  (None, 8, 22, 512)           0         ['conv3_block3_out[0][0]']    \n",
      " g2D)                                                                                             \n",
      "                                                                                                  \n",
      " conv3_block4_3_conv (Conv2  (None, 8, 22, 512)           66048     ['conv3_block4_2_relu[0][0]'] \n",
      " D)                                                                                               \n",
      "                                                                                                  \n",
      " conv3_block4_out (Add)      (None, 8, 22, 512)           0         ['max_pooling2d_1[0][0]',     \n",
      "                                                                     'conv3_block4_3_conv[0][0]'] \n",
      "                                                                                                  \n",
      " conv4_block1_preact_bn (Ba  (None, 8, 22, 512)           2048      ['conv3_block4_out[0][0]']    \n",
      " tchNormalization)                                                                                \n",
      "                                                                                                  \n",
      " conv4_block1_preact_relu (  (None, 8, 22, 512)           0         ['conv4_block1_preact_bn[0][0]\n",
      " Activation)                                                        ']                            \n",
      "                                                                                                  \n",
      " conv4_block1_1_conv (Conv2  (None, 8, 22, 256)           131072    ['conv4_block1_preact_relu[0][\n",
      " D)                                                                 0]']                          \n",
      "                                                                                                  \n",
      " conv4_block1_1_bn (BatchNo  (None, 8, 22, 256)           1024      ['conv4_block1_1_conv[0][0]'] \n",
      " rmalization)                                                                                     \n",
      "                                                                                                  \n",
      " conv4_block1_1_relu (Activ  (None, 8, 22, 256)           0         ['conv4_block1_1_bn[0][0]']   \n",
      " ation)                                                                                           \n",
      "                                                                                                  \n",
      " conv4_block1_2_pad (ZeroPa  (None, 10, 24, 256)          0         ['conv4_block1_1_relu[0][0]'] \n",
      " dding2D)                                                                                         \n",
      "                                                                                                  \n",
      " conv4_block1_2_conv (Conv2  (None, 8, 22, 256)           589824    ['conv4_block1_2_pad[0][0]']  \n",
      " D)                                                                                               \n",
      "                                                                                                  \n",
      " conv4_block1_2_bn (BatchNo  (None, 8, 22, 256)           1024      ['conv4_block1_2_conv[0][0]'] \n",
      " rmalization)                                                                                     \n",
      "                                                                                                  \n",
      " conv4_block1_2_relu (Activ  (None, 8, 22, 256)           0         ['conv4_block1_2_bn[0][0]']   \n",
      " ation)                                                                                           \n",
      "                                                                                                  \n",
      " conv4_block1_0_conv (Conv2  (None, 8, 22, 1024)          525312    ['conv4_block1_preact_relu[0][\n",
      " D)                                                                 0]']                          \n",
      "                                                                                                  \n",
      " conv4_block1_3_conv (Conv2  (None, 8, 22, 1024)          263168    ['conv4_block1_2_relu[0][0]'] \n",
      " D)                                                                                               \n",
      "                                                                                                  \n",
      " conv4_block1_out (Add)      (None, 8, 22, 1024)          0         ['conv4_block1_0_conv[0][0]', \n",
      "                                                                     'conv4_block1_3_conv[0][0]'] \n",
      "                                                                                                  \n",
      " conv4_block2_preact_bn (Ba  (None, 8, 22, 1024)          4096      ['conv4_block1_out[0][0]']    \n",
      " tchNormalization)                                                                                \n",
      "                                                                                                  \n",
      " conv4_block2_preact_relu (  (None, 8, 22, 1024)          0         ['conv4_block2_preact_bn[0][0]\n",
      " Activation)                                                        ']                            \n",
      "                                                                                                  \n",
      " conv4_block2_1_conv (Conv2  (None, 8, 22, 256)           262144    ['conv4_block2_preact_relu[0][\n",
      " D)                                                                 0]']                          \n",
      "                                                                                                  \n",
      " conv4_block2_1_bn (BatchNo  (None, 8, 22, 256)           1024      ['conv4_block2_1_conv[0][0]'] \n",
      " rmalization)                                                                                     \n",
      "                                                                                                  \n",
      " conv4_block2_1_relu (Activ  (None, 8, 22, 256)           0         ['conv4_block2_1_bn[0][0]']   \n",
      " ation)                                                                                           \n",
      "                                                                                                  \n",
      " conv4_block2_2_pad (ZeroPa  (None, 10, 24, 256)          0         ['conv4_block2_1_relu[0][0]'] \n",
      " dding2D)                                                                                         \n",
      "                                                                                                  \n",
      " conv4_block2_2_conv (Conv2  (None, 8, 22, 256)           589824    ['conv4_block2_2_pad[0][0]']  \n",
      " D)                                                                                               \n",
      "                                                                                                  \n",
      " conv4_block2_2_bn (BatchNo  (None, 8, 22, 256)           1024      ['conv4_block2_2_conv[0][0]'] \n",
      " rmalization)                                                                                     \n",
      "                                                                                                  \n",
      " conv4_block2_2_relu (Activ  (None, 8, 22, 256)           0         ['conv4_block2_2_bn[0][0]']   \n",
      " ation)                                                                                           \n",
      "                                                                                                  \n",
      " conv4_block2_3_conv (Conv2  (None, 8, 22, 1024)          263168    ['conv4_block2_2_relu[0][0]'] \n",
      " D)                                                                                               \n",
      "                                                                                                  \n",
      " conv4_block2_out (Add)      (None, 8, 22, 1024)          0         ['conv4_block1_out[0][0]',    \n",
      "                                                                     'conv4_block2_3_conv[0][0]'] \n",
      "                                                                                                  \n",
      " conv4_block3_preact_bn (Ba  (None, 8, 22, 1024)          4096      ['conv4_block2_out[0][0]']    \n",
      " tchNormalization)                                                                                \n",
      "                                                                                                  \n",
      " conv4_block3_preact_relu (  (None, 8, 22, 1024)          0         ['conv4_block3_preact_bn[0][0]\n",
      " Activation)                                                        ']                            \n",
      "                                                                                                  \n",
      " conv4_block3_1_conv (Conv2  (None, 8, 22, 256)           262144    ['conv4_block3_preact_relu[0][\n",
      " D)                                                                 0]']                          \n",
      "                                                                                                  \n",
      " conv4_block3_1_bn (BatchNo  (None, 8, 22, 256)           1024      ['conv4_block3_1_conv[0][0]'] \n",
      " rmalization)                                                                                     \n",
      "                                                                                                  \n",
      " conv4_block3_1_relu (Activ  (None, 8, 22, 256)           0         ['conv4_block3_1_bn[0][0]']   \n",
      " ation)                                                                                           \n",
      "                                                                                                  \n",
      " conv4_block3_2_pad (ZeroPa  (None, 10, 24, 256)          0         ['conv4_block3_1_relu[0][0]'] \n",
      " dding2D)                                                                                         \n",
      "                                                                                                  \n",
      " conv4_block3_2_conv (Conv2  (None, 8, 22, 256)           589824    ['conv4_block3_2_pad[0][0]']  \n",
      " D)                                                                                               \n",
      "                                                                                                  \n",
      " conv4_block3_2_bn (BatchNo  (None, 8, 22, 256)           1024      ['conv4_block3_2_conv[0][0]'] \n",
      " rmalization)                                                                                     \n",
      "                                                                                                  \n",
      " conv4_block3_2_relu (Activ  (None, 8, 22, 256)           0         ['conv4_block3_2_bn[0][0]']   \n",
      " ation)                                                                                           \n",
      "                                                                                                  \n",
      " conv4_block3_3_conv (Conv2  (None, 8, 22, 1024)          263168    ['conv4_block3_2_relu[0][0]'] \n",
      " D)                                                                                               \n",
      "                                                                                                  \n",
      " conv4_block3_out (Add)      (None, 8, 22, 1024)          0         ['conv4_block2_out[0][0]',    \n",
      "                                                                     'conv4_block3_3_conv[0][0]'] \n",
      "                                                                                                  \n",
      " conv4_block4_preact_bn (Ba  (None, 8, 22, 1024)          4096      ['conv4_block3_out[0][0]']    \n",
      " tchNormalization)                                                                                \n",
      "                                                                                                  \n",
      " conv4_block4_preact_relu (  (None, 8, 22, 1024)          0         ['conv4_block4_preact_bn[0][0]\n",
      " Activation)                                                        ']                            \n",
      "                                                                                                  \n",
      " conv4_block4_1_conv (Conv2  (None, 8, 22, 256)           262144    ['conv4_block4_preact_relu[0][\n",
      " D)                                                                 0]']                          \n",
      "                                                                                                  \n",
      " conv4_block4_1_bn (BatchNo  (None, 8, 22, 256)           1024      ['conv4_block4_1_conv[0][0]'] \n",
      " rmalization)                                                                                     \n",
      "                                                                                                  \n",
      " conv4_block4_1_relu (Activ  (None, 8, 22, 256)           0         ['conv4_block4_1_bn[0][0]']   \n",
      " ation)                                                                                           \n",
      "                                                                                                  \n",
      " conv4_block4_2_pad (ZeroPa  (None, 10, 24, 256)          0         ['conv4_block4_1_relu[0][0]'] \n",
      " dding2D)                                                                                         \n",
      "                                                                                                  \n",
      " conv4_block4_2_conv (Conv2  (None, 8, 22, 256)           589824    ['conv4_block4_2_pad[0][0]']  \n",
      " D)                                                                                               \n",
      "                                                                                                  \n",
      " conv4_block4_2_bn (BatchNo  (None, 8, 22, 256)           1024      ['conv4_block4_2_conv[0][0]'] \n",
      " rmalization)                                                                                     \n",
      "                                                                                                  \n",
      " conv4_block4_2_relu (Activ  (None, 8, 22, 256)           0         ['conv4_block4_2_bn[0][0]']   \n",
      " ation)                                                                                           \n",
      "                                                                                                  \n",
      " conv4_block4_3_conv (Conv2  (None, 8, 22, 1024)          263168    ['conv4_block4_2_relu[0][0]'] \n",
      " D)                                                                                               \n",
      "                                                                                                  \n",
      " conv4_block4_out (Add)      (None, 8, 22, 1024)          0         ['conv4_block3_out[0][0]',    \n",
      "                                                                     'conv4_block4_3_conv[0][0]'] \n",
      "                                                                                                  \n",
      " conv4_block5_preact_bn (Ba  (None, 8, 22, 1024)          4096      ['conv4_block4_out[0][0]']    \n",
      " tchNormalization)                                                                                \n",
      "                                                                                                  \n",
      " conv4_block5_preact_relu (  (None, 8, 22, 1024)          0         ['conv4_block5_preact_bn[0][0]\n",
      " Activation)                                                        ']                            \n",
      "                                                                                                  \n",
      " conv4_block5_1_conv (Conv2  (None, 8, 22, 256)           262144    ['conv4_block5_preact_relu[0][\n",
      " D)                                                                 0]']                          \n",
      "                                                                                                  \n",
      " conv4_block5_1_bn (BatchNo  (None, 8, 22, 256)           1024      ['conv4_block5_1_conv[0][0]'] \n",
      " rmalization)                                                                                     \n",
      "                                                                                                  \n",
      " conv4_block5_1_relu (Activ  (None, 8, 22, 256)           0         ['conv4_block5_1_bn[0][0]']   \n",
      " ation)                                                                                           \n",
      "                                                                                                  \n",
      " conv4_block5_2_pad (ZeroPa  (None, 10, 24, 256)          0         ['conv4_block5_1_relu[0][0]'] \n",
      " dding2D)                                                                                         \n",
      "                                                                                                  \n",
      " conv4_block5_2_conv (Conv2  (None, 8, 22, 256)           589824    ['conv4_block5_2_pad[0][0]']  \n",
      " D)                                                                                               \n",
      "                                                                                                  \n",
      " conv4_block5_2_bn (BatchNo  (None, 8, 22, 256)           1024      ['conv4_block5_2_conv[0][0]'] \n",
      " rmalization)                                                                                     \n",
      "                                                                                                  \n",
      " conv4_block5_2_relu (Activ  (None, 8, 22, 256)           0         ['conv4_block5_2_bn[0][0]']   \n",
      " ation)                                                                                           \n",
      "                                                                                                  \n",
      " conv4_block5_3_conv (Conv2  (None, 8, 22, 1024)          263168    ['conv4_block5_2_relu[0][0]'] \n",
      " D)                                                                                               \n",
      "                                                                                                  \n",
      " conv4_block5_out (Add)      (None, 8, 22, 1024)          0         ['conv4_block4_out[0][0]',    \n",
      "                                                                     'conv4_block5_3_conv[0][0]'] \n",
      "                                                                                                  \n",
      " conv4_block6_preact_bn (Ba  (None, 8, 22, 1024)          4096      ['conv4_block5_out[0][0]']    \n",
      " tchNormalization)                                                                                \n",
      "                                                                                                  \n",
      " conv4_block6_preact_relu (  (None, 8, 22, 1024)          0         ['conv4_block6_preact_bn[0][0]\n",
      " Activation)                                                        ']                            \n",
      "                                                                                                  \n",
      " conv4_block6_1_conv (Conv2  (None, 8, 22, 256)           262144    ['conv4_block6_preact_relu[0][\n",
      " D)                                                                 0]']                          \n",
      "                                                                                                  \n",
      " conv4_block6_1_bn (BatchNo  (None, 8, 22, 256)           1024      ['conv4_block6_1_conv[0][0]'] \n",
      " rmalization)                                                                                     \n",
      "                                                                                                  \n",
      " conv4_block6_1_relu (Activ  (None, 8, 22, 256)           0         ['conv4_block6_1_bn[0][0]']   \n",
      " ation)                                                                                           \n",
      "                                                                                                  \n",
      " conv4_block6_2_pad (ZeroPa  (None, 10, 24, 256)          0         ['conv4_block6_1_relu[0][0]'] \n",
      " dding2D)                                                                                         \n",
      "                                                                                                  \n",
      " conv4_block6_2_conv (Conv2  (None, 4, 11, 256)           589824    ['conv4_block6_2_pad[0][0]']  \n",
      " D)                                                                                               \n",
      "                                                                                                  \n",
      " conv4_block6_2_bn (BatchNo  (None, 4, 11, 256)           1024      ['conv4_block6_2_conv[0][0]'] \n",
      " rmalization)                                                                                     \n",
      "                                                                                                  \n",
      " conv4_block6_2_relu (Activ  (None, 4, 11, 256)           0         ['conv4_block6_2_bn[0][0]']   \n",
      " ation)                                                                                           \n",
      "                                                                                                  \n",
      " max_pooling2d_2 (MaxPoolin  (None, 4, 11, 1024)          0         ['conv4_block5_out[0][0]']    \n",
      " g2D)                                                                                             \n",
      "                                                                                                  \n",
      " conv4_block6_3_conv (Conv2  (None, 4, 11, 1024)          263168    ['conv4_block6_2_relu[0][0]'] \n",
      " D)                                                                                               \n",
      "                                                                                                  \n",
      " conv4_block6_out (Add)      (None, 4, 11, 1024)          0         ['max_pooling2d_2[0][0]',     \n",
      "                                                                     'conv4_block6_3_conv[0][0]'] \n",
      "                                                                                                  \n",
      " conv5_block1_preact_bn (Ba  (None, 4, 11, 1024)          4096      ['conv4_block6_out[0][0]']    \n",
      " tchNormalization)                                                                                \n",
      "                                                                                                  \n",
      " conv5_block1_preact_relu (  (None, 4, 11, 1024)          0         ['conv5_block1_preact_bn[0][0]\n",
      " Activation)                                                        ']                            \n",
      "                                                                                                  \n",
      " conv5_block1_1_conv (Conv2  (None, 4, 11, 512)           524288    ['conv5_block1_preact_relu[0][\n",
      " D)                                                                 0]']                          \n",
      "                                                                                                  \n",
      " conv5_block1_1_bn (BatchNo  (None, 4, 11, 512)           2048      ['conv5_block1_1_conv[0][0]'] \n",
      " rmalization)                                                                                     \n",
      "                                                                                                  \n",
      " conv5_block1_1_relu (Activ  (None, 4, 11, 512)           0         ['conv5_block1_1_bn[0][0]']   \n",
      " ation)                                                                                           \n",
      "                                                                                                  \n",
      " conv5_block1_2_pad (ZeroPa  (None, 6, 13, 512)           0         ['conv5_block1_1_relu[0][0]'] \n",
      " dding2D)                                                                                         \n",
      "                                                                                                  \n",
      " conv5_block1_2_conv (Conv2  (None, 4, 11, 512)           2359296   ['conv5_block1_2_pad[0][0]']  \n",
      " D)                                                                                               \n",
      "                                                                                                  \n",
      " conv5_block1_2_bn (BatchNo  (None, 4, 11, 512)           2048      ['conv5_block1_2_conv[0][0]'] \n",
      " rmalization)                                                                                     \n",
      "                                                                                                  \n",
      " conv5_block1_2_relu (Activ  (None, 4, 11, 512)           0         ['conv5_block1_2_bn[0][0]']   \n",
      " ation)                                                                                           \n",
      "                                                                                                  \n",
      " conv5_block1_0_conv (Conv2  (None, 4, 11, 2048)          2099200   ['conv5_block1_preact_relu[0][\n",
      " D)                                                                 0]']                          \n",
      "                                                                                                  \n",
      " conv5_block1_3_conv (Conv2  (None, 4, 11, 2048)          1050624   ['conv5_block1_2_relu[0][0]'] \n",
      " D)                                                                                               \n",
      "                                                                                                  \n",
      " conv5_block1_out (Add)      (None, 4, 11, 2048)          0         ['conv5_block1_0_conv[0][0]', \n",
      "                                                                     'conv5_block1_3_conv[0][0]'] \n",
      "                                                                                                  \n",
      " conv5_block2_preact_bn (Ba  (None, 4, 11, 2048)          8192      ['conv5_block1_out[0][0]']    \n",
      " tchNormalization)                                                                                \n",
      "                                                                                                  \n",
      " conv5_block2_preact_relu (  (None, 4, 11, 2048)          0         ['conv5_block2_preact_bn[0][0]\n",
      " Activation)                                                        ']                            \n",
      "                                                                                                  \n",
      " conv5_block2_1_conv (Conv2  (None, 4, 11, 512)           1048576   ['conv5_block2_preact_relu[0][\n",
      " D)                                                                 0]']                          \n",
      "                                                                                                  \n",
      " conv5_block2_1_bn (BatchNo  (None, 4, 11, 512)           2048      ['conv5_block2_1_conv[0][0]'] \n",
      " rmalization)                                                                                     \n",
      "                                                                                                  \n",
      " conv5_block2_1_relu (Activ  (None, 4, 11, 512)           0         ['conv5_block2_1_bn[0][0]']   \n",
      " ation)                                                                                           \n",
      "                                                                                                  \n",
      " conv5_block2_2_pad (ZeroPa  (None, 6, 13, 512)           0         ['conv5_block2_1_relu[0][0]'] \n",
      " dding2D)                                                                                         \n",
      "                                                                                                  \n",
      " conv5_block2_2_conv (Conv2  (None, 4, 11, 512)           2359296   ['conv5_block2_2_pad[0][0]']  \n",
      " D)                                                                                               \n",
      "                                                                                                  \n",
      " conv5_block2_2_bn (BatchNo  (None, 4, 11, 512)           2048      ['conv5_block2_2_conv[0][0]'] \n",
      " rmalization)                                                                                     \n",
      "                                                                                                  \n",
      " conv5_block2_2_relu (Activ  (None, 4, 11, 512)           0         ['conv5_block2_2_bn[0][0]']   \n",
      " ation)                                                                                           \n",
      "                                                                                                  \n",
      " conv5_block2_3_conv (Conv2  (None, 4, 11, 2048)          1050624   ['conv5_block2_2_relu[0][0]'] \n",
      " D)                                                                                               \n",
      "                                                                                                  \n",
      " conv5_block2_out (Add)      (None, 4, 11, 2048)          0         ['conv5_block1_out[0][0]',    \n",
      "                                                                     'conv5_block2_3_conv[0][0]'] \n",
      "                                                                                                  \n",
      " conv5_block3_preact_bn (Ba  (None, 4, 11, 2048)          8192      ['conv5_block2_out[0][0]']    \n",
      " tchNormalization)                                                                                \n",
      "                                                                                                  \n",
      " conv5_block3_preact_relu (  (None, 4, 11, 2048)          0         ['conv5_block3_preact_bn[0][0]\n",
      " Activation)                                                        ']                            \n",
      "                                                                                                  \n",
      " conv5_block3_1_conv (Conv2  (None, 4, 11, 512)           1048576   ['conv5_block3_preact_relu[0][\n",
      " D)                                                                 0]']                          \n",
      "                                                                                                  \n",
      " conv5_block3_1_bn (BatchNo  (None, 4, 11, 512)           2048      ['conv5_block3_1_conv[0][0]'] \n",
      " rmalization)                                                                                     \n",
      "                                                                                                  \n",
      " conv5_block3_1_relu (Activ  (None, 4, 11, 512)           0         ['conv5_block3_1_bn[0][0]']   \n",
      " ation)                                                                                           \n",
      "                                                                                                  \n",
      " conv5_block3_2_pad (ZeroPa  (None, 6, 13, 512)           0         ['conv5_block3_1_relu[0][0]'] \n",
      " dding2D)                                                                                         \n",
      "                                                                                                  \n",
      " conv5_block3_2_conv (Conv2  (None, 4, 11, 512)           2359296   ['conv5_block3_2_pad[0][0]']  \n",
      " D)                                                                                               \n",
      "                                                                                                  \n",
      " conv5_block3_2_bn (BatchNo  (None, 4, 11, 512)           2048      ['conv5_block3_2_conv[0][0]'] \n",
      " rmalization)                                                                                     \n",
      "                                                                                                  \n",
      " conv5_block3_2_relu (Activ  (None, 4, 11, 512)           0         ['conv5_block3_2_bn[0][0]']   \n",
      " ation)                                                                                           \n",
      "                                                                                                  \n",
      " conv5_block3_3_conv (Conv2  (None, 4, 11, 2048)          1050624   ['conv5_block3_2_relu[0][0]'] \n",
      " D)                                                                                               \n",
      "                                                                                                  \n",
      " conv5_block3_out (Add)      (None, 4, 11, 2048)          0         ['conv5_block2_out[0][0]',    \n",
      "                                                                     'conv5_block3_3_conv[0][0]'] \n",
      "                                                                                                  \n",
      " post_bn (BatchNormalizatio  (None, 4, 11, 2048)          8192      ['conv5_block3_out[0][0]']    \n",
      " n)                                                                                               \n",
      "                                                                                                  \n",
      " post_relu (Activation)      (None, 4, 11, 2048)          0         ['post_bn[0][0]']             \n",
      "                                                                                                  \n",
      "==================================================================================================\n",
      "Total params: 23564800 (89.89 MB)\n",
      "Trainable params: 0 (0.00 Byte)\n",
      "Non-trainable params: 23564800 (89.89 MB)\n",
      "__________________________________________________________________________________________________\n"
     ]
    }
   ],
   "source": [
    "base_model.summary()"
   ]
  },
  {
   "cell_type": "code",
   "execution_count": null,
   "metadata": {
    "id": "07c3iqCQO48Z"
   },
   "outputs": [],
   "source": [
    "nbr_absence = len(absence_index)\n",
    "nbr_presence = len(presence_index)\n",
    "total = nbr_absence+nbr_presence"
   ]
  },
  {
   "cell_type": "code",
   "execution_count": null,
   "metadata": {
    "colab": {
     "base_uri": "https://localhost:8080/"
    },
    "id": "iswA7q0JOy0U",
    "outputId": "bcf196c4-7c34-473d-b229-23786c4698b4"
   },
   "outputs": [
    {
     "name": "stdout",
     "output_type": "stream",
     "text": [
      "Weight for class 0: 1.50\n",
      "Weight for class 1: 0.75\n"
     ]
    }
   ],
   "source": [
    "weight_for_0 = (1 / nbr_absence) * (total / 2.0)\n",
    "weight_for_1 = (1 / nbr_presence) * (total / 2.0)\n",
    "\n",
    "class_weight = {0: weight_for_0, 1: weight_for_1}\n",
    "\n",
    "print('Weight for class 0: {:.2f}'.format(weight_for_0))\n",
    "print('Weight for class 1: {:.2f}'.format(weight_for_1))"
   ]
  },
  {
   "cell_type": "code",
   "execution_count": null,
   "metadata": {
    "colab": {
     "base_uri": "https://localhost:8080/"
    },
    "id": "me7bnRe6Oxwy",
    "outputId": "326222a1-2c48-4e7e-bae2-e2d9e1a82b5d"
   },
   "outputs": [
    {
     "name": "stdout",
     "output_type": "stream",
     "text": [
      "Epoch 1/2\n",
      "34/34 [==============================] - ETA: 0s - loss: 1.3806 - accuracy: 0.6572\n",
      "Epoch 1: val_loss improved from inf to 0.83865, saving model to 123_FineTuned.hdf5\n"
     ]
    },
    {
     "name": "stderr",
     "output_type": "stream",
     "text": [
      "/usr/local/lib/python3.10/dist-packages/keras/src/engine/training.py:3103: UserWarning: You are saving your model as an HDF5 file via `model.save()`. This file format is considered legacy. We recommend using instead the native Keras format, e.g. `model.save('my_model.keras')`.\n",
      "  saving_api.save_model(\n"
     ]
    },
    {
     "name": "stdout",
     "output_type": "stream",
     "text": [
      "\b\b\b\b\b\b\b\b\b\b\b\b\b\b\b\b\b\b\b\b\b\b\b\b\b\b\b\b\b\b\b\b\b\b\b\b\b\b\b\b\b\b\b\b\b\b\b\b\b\b\b\b\b\b\b\b\b\b\b\b\b\b\b\b\b\b\b\b\b\b\b\b\b\b\b\b\b\b\b\b\b\b\r",
      "34/34 [==============================] - 142s 4s/step - loss: 1.3806 - accuracy: 0.6572 - val_loss: 0.8386 - val_accuracy: 0.6850\n",
      "Epoch 2/2\n",
      "34/34 [==============================] - ETA: 0s - loss: 0.4623 - accuracy: 0.8033\n",
      "Epoch 2: val_loss improved from 0.83865 to 0.80989, saving model to 123_FineTuned.hdf5\n",
      "34/34 [==============================] - 139s 4s/step - loss: 0.4623 - accuracy: 0.8033 - val_loss: 0.8099 - val_accuracy: 0.7582\n",
      "Model: \"model\"\n",
      "_________________________________________________________________\n",
      " Layer (type)                Output Shape              Param #   \n",
      "=================================================================\n",
      " input_2 (InputLayer)        [(None, 128, 345, 3)]     0         \n",
      "                                                                 \n",
      " resnet50v2 (Functional)     (None, 4, 11, 2048)       23564800  \n",
      "                                                                 \n",
      " flatten (Flatten)           (None, 90112)             0         \n",
      "                                                                 \n",
      " dense (Dense)               (None, 2)                 180226    \n",
      "                                                                 \n",
      "=================================================================\n",
      "Total params: 23745026 (90.58 MB)\n",
      "Trainable params: 180226 (704.01 KB)\n",
      "Non-trainable params: 23564800 (89.89 MB)\n",
      "_________________________________________________________________\n"
     ]
    }
   ],
   "source": [
    "history = model.fit(X_train,Y_train,\n",
    "                    validation_data=(X_val, Y_val),\n",
    "                    epochs=2,\n",
    "                    callbacks=callbacks_list,\n",
    "                    class_weight=class_weight)\n",
    "\n",
    "#base_model.trainable = True\n",
    "model.summary()"
   ]
  },
  {
   "cell_type": "code",
   "execution_count": null,
   "metadata": {
    "id": "R8Jdtm2bPbgd"
   },
   "outputs": [],
   "source": [
    "model.compile(optimizer=Adam(1e-5),  # Low learning rate\n",
    "    loss='categorical_crossentropy',\n",
    "    metrics=['accuracy'])"
   ]
  },
  {
   "cell_type": "code",
   "execution_count": null,
   "metadata": {
    "colab": {
     "base_uri": "https://localhost:8080/"
    },
    "id": "5lb-NSffPefF",
    "outputId": "68bcfd74-1329-4ddc-a15a-9d05bb001459"
   },
   "outputs": [
    {
     "name": "stdout",
     "output_type": "stream",
     "text": [
      "Epoch 1/5\n",
      "34/34 [==============================] - ETA: 0s - loss: 0.1651 - accuracy: 0.9366\n",
      "Epoch 1: val_loss did not improve from 0.63907\n",
      "34/34 [==============================] - 141s 4s/step - loss: 0.1651 - accuracy: 0.9366 - val_loss: 0.6577 - val_accuracy: 0.7106\n",
      "Epoch 2/5\n",
      "34/34 [==============================] - ETA: 0s - loss: 0.1612 - accuracy: 0.9357\n",
      "Epoch 2: val_loss did not improve from 0.63907\n",
      "34/34 [==============================] - 138s 4s/step - loss: 0.1612 - accuracy: 0.9357 - val_loss: 0.6457 - val_accuracy: 0.7179\n",
      "Epoch 3/5\n",
      "34/34 [==============================] - ETA: 0s - loss: 0.1594 - accuracy: 0.9403\n",
      "Epoch 3: val_loss did not improve from 0.63907\n",
      "34/34 [==============================] - 137s 4s/step - loss: 0.1594 - accuracy: 0.9403 - val_loss: 0.6546 - val_accuracy: 0.7143\n",
      "Epoch 4/5\n",
      "34/34 [==============================] - ETA: 0s - loss: 0.1567 - accuracy: 0.9393\n",
      "Epoch 4: val_loss improved from 0.63907 to 0.63327, saving model to 123_FineTuned.hdf5\n"
     ]
    },
    {
     "name": "stderr",
     "output_type": "stream",
     "text": [
      "/usr/local/lib/python3.10/dist-packages/keras/src/engine/training.py:3103: UserWarning: You are saving your model as an HDF5 file via `model.save()`. This file format is considered legacy. We recommend using instead the native Keras format, e.g. `model.save('my_model.keras')`.\n",
      "  saving_api.save_model(\n"
     ]
    },
    {
     "name": "stdout",
     "output_type": "stream",
     "text": [
      "\b\b\b\b\b\b\b\b\b\b\b\b\b\b\b\b\b\b\b\b\b\b\b\b\b\b\b\b\b\b\b\b\b\b\b\b\b\b\b\b\b\b\b\b\b\b\b\b\b\b\b\b\b\b\b\b\b\b\b\b\b\b\b\b\b\b\b\b\b\b\b\b\b\b\b\b\b\b\b\b\b\b\r",
      "34/34 [==============================] - 140s 4s/step - loss: 0.1567 - accuracy: 0.9393 - val_loss: 0.6333 - val_accuracy: 0.7143\n",
      "Epoch 5/5\n",
      "34/34 [==============================] - ETA: 0s - loss: 0.1566 - accuracy: 0.9467\n",
      "Epoch 5: val_loss did not improve from 0.63327\n",
      "34/34 [==============================] - 137s 4s/step - loss: 0.1566 - accuracy: 0.9467 - val_loss: 0.6711 - val_accuracy: 0.7289\n"
     ]
    }
   ],
   "source": [
    "history = model.fit(X_train,Y_train,\n",
    "                    validation_data=(X_val, Y_val),\n",
    "                    epochs=5,\n",
    "                    callbacks=callbacks_list,\n",
    "                    class_weight=class_weight)"
   ]
  },
  {
   "cell_type": "code",
   "execution_count": null,
   "metadata": {
    "id": "AQ86nZurPkfd"
   },
   "outputs": [],
   "source": [
    "model.load_weights('123_FineTuned.hdf5')"
   ]
  },
  {
   "cell_type": "code",
   "execution_count": null,
   "metadata": {
    "id": "vHbJIiaKZOKr"
   },
   "outputs": [],
   "source": [
    "X_test = np.concatenate((X_test, X_test, X_test), axis=-1)"
   ]
  },
  {
   "cell_type": "code",
   "execution_count": null,
   "metadata": {
    "colab": {
     "base_uri": "https://localhost:8080/"
    },
    "id": "hw5ABMxGfzqN",
    "outputId": "973cc2f3-3295-4ef9-fb87-f91766e32acc"
   },
   "outputs": [
    {
     "name": "stdout",
     "output_type": "stream",
     "text": [
      "(314, 128, 345, 3)\n"
     ]
    }
   ],
   "source": [
    "print(X_test.shape)"
   ]
  },
  {
   "cell_type": "code",
   "execution_count": null,
   "metadata": {
    "colab": {
     "base_uri": "https://localhost:8080/"
    },
    "id": "QNQ9I67JVjj-",
    "outputId": "400e0109-e0bd-4659-f237-c74147294ea4"
   },
   "outputs": [
    {
     "name": "stdout",
     "output_type": "stream",
     "text": [
      "10/10 [==============================] - 28s 3s/step - loss: 2.2958 - accuracy: 0.7675\n"
     ]
    },
    {
     "data": {
      "text/plain": [
       "[2.2958295345306396, 0.7675158977508545]"
      ]
     },
     "execution_count": 103,
     "metadata": {},
     "output_type": "execute_result"
    }
   ],
   "source": [
    "model.evaluate(X_test, Y_test)"
   ]
  },
  {
   "cell_type": "code",
   "execution_count": null,
   "metadata": {
    "id": "3LzhFc9Hul36"
   },
   "outputs": [],
   "source": [
    "# with open(\"history_2.pkl\", \"wb\") as f:\n",
    "#   pickle.dump({\"history\":history,\"model\":model2}, f)"
   ]
  }
 ],
 "metadata": {
  "colab": {
   "collapsed_sections": [
    "ejnfw0avKOeS",
    "RONf0SeA4ZKD",
    "T9DehA__3aAc",
    "usCkb8ot3fyE"
   ],
   "provenance": []
  },
  "kernelspec": {
   "display_name": "Python 3 (ipykernel)",
   "language": "python",
   "name": "python3"
  },
  "language_info": {
   "codemirror_mode": {
    "name": "ipython",
    "version": 3
   },
   "file_extension": ".py",
   "mimetype": "text/x-python",
   "name": "python",
   "nbconvert_exporter": "python",
   "pygments_lexer": "ipython3",
   "version": "3.8.10"
  }
 },
 "nbformat": 4,
 "nbformat_minor": 4
}
